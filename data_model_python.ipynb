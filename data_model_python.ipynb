{
 "cells": [
  {
   "cell_type": "markdown",
   "metadata": {},
   "source": [
    "## <h1><center> Lab - Week 1 </center></h1>\n",
    "\n",
    "In this notebook you will see implementations with examples. The main purpose of using this notebook is simply to confirm that you can run it and understand what it is doing without difficulty. \n",
    "\n",
    "Examples are the ones propose in the Book: Hyndman, R.J., & Athanasopoulos, G. (2021) Forecasting: principles and practice, 3rd edition, OTexts: Melbourne, Australia.\n",
    "Online version: https://otexts.com/fpp3/\n",
    "\n",
    "**Examples** are in bold. These are not mandatory or graded, they are simply to encourage you to think how you could answer them.\n",
    "\n",
    "If you have questions, contact first your TAs:\n",
    "\n",
    "Olivier Sprangers: o.r.sprangers@uva.nl\n",
    "\n",
    "Sara Mahdavi Hezavehi: s.mahdavihezavehi@uva.nl \n",
    "\n",
    "Reshmi Gopalakrishna Pillai: r.gopalakrishnapillai@uva.nl \n",
    "\n",
    "or in the second point, the course coordinator\n",
    "\n",
    "Erman Acar: e.acar@uva.nl"
   ]
  },
  {
   "cell_type": "markdown",
   "metadata": {},
   "source": [
    "# Introduction to working with R in the Jupyter Notebook\n",
    "*Running R in Jupyter With The R Kernel*\n",
    "\n",
    "To work with R, you’ll need to load the IRKernel and activate it to get started on working with R in the notebook environment.\n",
    "\n",
    "**install some packages**\n",
    "\n",
    "1) Open regular R terminal or RStudio terminal:\n",
    "\n",
    "   a) install.packages(c('repr', 'IRdisplay', 'evaluate', 'crayon', 'pbdZMQ', 'devtools', 'uuid', 'digest'))\n",
    "\n",
    "   b) devtools::install_github('IRkernel/IRkernel')\n",
    "\n",
    "   c) IRkernel::installspec(user = FALSE)\n",
    "   \n",
    "2) Via Command Prompt:\n",
    "   conda create -n my-r-env -c r r-essentials\n",
    "   \n",
    "3) Source: [`Installing the R kernel in Jupyter Lab`](https://github.com/IRkernel/IRkernel)"
   ]
  },
  {
   "cell_type": "code",
   "execution_count": null,
   "metadata": {},
   "outputs": [],
   "source": [
    "library(fpp3)"
   ]
  },
  {
   "cell_type": "markdown",
   "metadata": {},
   "source": [
    "## Working with Data"
   ]
  },
  {
   "cell_type": "markdown",
   "metadata": {},
   "source": [
    "### Scalars"
   ]
  },
  {
   "cell_type": "code",
   "execution_count": null,
   "metadata": {},
   "outputs": [],
   "source": [
    "n <- 3.14\n",
    "s <- 'c'\n",
    "b <- TRUE"
   ]
  },
  {
   "cell_type": "code",
   "execution_count": null,
   "metadata": {},
   "outputs": [],
   "source": [
    "typeof(n); typeof(s); typeof(b)"
   ]
  },
  {
   "cell_type": "markdown",
   "metadata": {},
   "source": [
    "### Vectors"
   ]
  },
  {
   "cell_type": "code",
   "execution_count": null,
   "metadata": {},
   "outputs": [],
   "source": [
    "xs <- c(1, 0.5, 0.25)\n",
    "ss <- c('G', 'A', 'T', 'T', 'A', 'C', 'A')\n",
    "bs <- c(T, T, F, F, T, T, F, F)"
   ]
  },
  {
   "cell_type": "code",
   "execution_count": null,
   "metadata": {},
   "outputs": [],
   "source": [
    "xs; ss; bs"
   ]
  },
  {
   "cell_type": "markdown",
   "metadata": {},
   "source": [
    "Extracting a single element"
   ]
  },
  {
   "cell_type": "code",
   "execution_count": null,
   "metadata": {},
   "outputs": [],
   "source": [
    "xs[1]"
   ]
  },
  {
   "cell_type": "markdown",
   "metadata": {},
   "source": [
    "Extracting elments with a position vector"
   ]
  },
  {
   "cell_type": "code",
   "execution_count": null,
   "metadata": {},
   "outputs": [],
   "source": [
    "ss[2:5]"
   ]
  },
  {
   "cell_type": "markdown",
   "metadata": {},
   "source": [
    "Extracting elemnents wiht a logical vector"
   ]
  },
  {
   "cell_type": "code",
   "execution_count": null,
   "metadata": {},
   "outputs": [],
   "source": [
    "ss[bs]"
   ]
  },
  {
   "cell_type": "markdown",
   "metadata": {},
   "source": [
    "Extracting elements with a logical condition"
   ]
  },
  {
   "cell_type": "code",
   "execution_count": null,
   "metadata": {},
   "outputs": [],
   "source": [
    "ss[ss %in% c('A', 'T')]"
   ]
  },
  {
   "cell_type": "markdown",
   "metadata": {},
   "source": [
    "### Matrices and Arrays"
   ]
  },
  {
   "cell_type": "markdown",
   "metadata": {},
   "source": [
    "Like vecorrs, only in 2D (matrices) or more (arrays)."
   ]
  },
  {
   "cell_type": "code",
   "execution_count": null,
   "metadata": {},
   "outputs": [],
   "source": [
    "m <- matrix(1:12, ncol=4); m"
   ]
  },
  {
   "cell_type": "code",
   "execution_count": null,
   "metadata": {},
   "outputs": [],
   "source": [
    "\n",
    "m[6:10]"
   ]
  },
  {
   "cell_type": "code",
   "execution_count": null,
   "metadata": {},
   "outputs": [],
   "source": [
    "m[m < 10]"
   ]
  },
  {
   "cell_type": "code",
   "execution_count": null,
   "metadata": {},
   "outputs": [],
   "source": [
    "m[2,]"
   ]
  },
  {
   "cell_type": "code",
   "execution_count": null,
   "metadata": {},
   "outputs": [],
   "source": [
    "m[,2]"
   ]
  },
  {
   "cell_type": "markdown",
   "metadata": {},
   "source": [
    "## Question 1:\n",
    "Try to solve the following problems without searching the web. You can use the built-in help() function.\n",
    "Create the following 3×3 matrix and save in a variable called A.\n",
    "\n",
    "* Row 1 = 4, 5, 6\n",
    "* Row 2 = 1, 2, 3\n",
    "* Row 3 = 7, 8, 9"
   ]
  },
  {
   "cell_type": "code",
   "execution_count": null,
   "metadata": {},
   "outputs": [],
   "source": []
  },
  {
   "cell_type": "markdown",
   "metadata": {},
   "source": [
    "What is the sum of all the numbers in A?"
   ]
  },
  {
   "cell_type": "code",
   "execution_count": null,
   "metadata": {},
   "outputs": [],
   "source": []
  },
  {
   "cell_type": "markdown",
   "metadata": {},
   "source": [
    "Create a vector of the column sums in A using the colSums function."
   ]
  },
  {
   "cell_type": "code",
   "execution_count": null,
   "metadata": {},
   "outputs": [],
   "source": []
  },
  {
   "cell_type": "markdown",
   "metadata": {},
   "source": [
    "Create a vector of the row sums in A using the apply function."
   ]
  },
  {
   "cell_type": "code",
   "execution_count": null,
   "metadata": {},
   "outputs": [],
   "source": []
  },
  {
   "cell_type": "markdown",
   "metadata": {},
   "source": [
    "What is the sum of the numbers in bottom right 2×2 block (i.e the numbers 2, 3, 8, 9)"
   ]
  },
  {
   "cell_type": "code",
   "execution_count": null,
   "metadata": {},
   "outputs": [],
   "source": []
  },
  {
   "cell_type": "markdown",
   "metadata": {},
   "source": [
    "## Lists"
   ]
  },
  {
   "cell_type": "code",
   "execution_count": null,
   "metadata": {},
   "outputs": [],
   "source": [
    "ls <- list(dna=ss, ispurine=ss %in% c('A', 'G')); ls"
   ]
  },
  {
   "cell_type": "markdown",
   "metadata": {},
   "source": [
    "Extracting a sublist from a list"
   ]
  },
  {
   "cell_type": "code",
   "execution_count": null,
   "metadata": {},
   "outputs": [],
   "source": [
    "ls[1]"
   ]
  },
  {
   "cell_type": "code",
   "execution_count": null,
   "metadata": {},
   "outputs": [],
   "source": [
    "class(ls[1])"
   ]
  },
  {
   "cell_type": "markdown",
   "metadata": {},
   "source": [
    "Extracting an element from a list"
   ]
  },
  {
   "cell_type": "code",
   "execution_count": null,
   "metadata": {},
   "outputs": [],
   "source": [
    "ls$dna"
   ]
  },
  {
   "cell_type": "code",
   "execution_count": null,
   "metadata": {},
   "outputs": [],
   "source": [
    "class(ls$dna)"
   ]
  },
  {
   "cell_type": "code",
   "execution_count": null,
   "metadata": {},
   "outputs": [],
   "source": [
    "ls[[1]]\n"
   ]
  },
  {
   "cell_type": "code",
   "execution_count": null,
   "metadata": {},
   "outputs": [],
   "source": [
    "class(ls[[1]])"
   ]
  },
  {
   "cell_type": "markdown",
   "metadata": {},
   "source": [
    "## Data frames"
   ]
  },
  {
   "cell_type": "code",
   "execution_count": null,
   "metadata": {},
   "outputs": [],
   "source": [
    "df <- as.data.frame(ls); df"
   ]
  },
  {
   "cell_type": "code",
   "execution_count": null,
   "metadata": {},
   "outputs": [],
   "source": [
    "\n",
    "class(ls)"
   ]
  },
  {
   "cell_type": "code",
   "execution_count": null,
   "metadata": {},
   "outputs": [],
   "source": [
    "class(df)"
   ]
  },
  {
   "cell_type": "code",
   "execution_count": null,
   "metadata": {},
   "outputs": [],
   "source": [
    "df[4:6, ]"
   ]
  },
  {
   "cell_type": "code",
   "execution_count": null,
   "metadata": {},
   "outputs": [],
   "source": [
    "df$ispurine"
   ]
  },
  {
   "cell_type": "code",
   "execution_count": null,
   "metadata": {},
   "outputs": [],
   "source": [
    "df[df$ispurine, ]"
   ]
  },
  {
   "cell_type": "markdown",
   "metadata": {},
   "source": [
    "## Creating a data frame from scrach"
   ]
  },
  {
   "cell_type": "code",
   "execution_count": null,
   "metadata": {},
   "outputs": [],
   "source": [
    "gender <- c('M', 'M', 'F', 'F', 'M', 'F', 'M')\n",
    "height <- c(1.65, 1.82, 1.56, 1.66, 1.72, 1.6, 1.8)\n",
    "weight <- c(65, 102, 55, 46, 78, 60, 72)\n",
    "\n",
    "bods <- data.frame(gender, height, weight); bods"
   ]
  },
  {
   "cell_type": "markdown",
   "metadata": {},
   "source": [
    "We can add a new calculated column easily. Let’s include the body mass index (bmi)."
   ]
  },
  {
   "cell_type": "code",
   "execution_count": null,
   "metadata": {},
   "outputs": [],
   "source": [
    "bods$bmi <- bods$weight/bods$height^2 ; bods"
   ]
  },
  {
   "cell_type": "markdown",
   "metadata": {},
   "source": [
    "Let’s get rid of the bmi column."
   ]
  },
  {
   "cell_type": "code",
   "execution_count": null,
   "metadata": {},
   "outputs": [],
   "source": [
    "bods$bmi <- NULL ; bods"
   ]
  },
  {
   "cell_type": "markdown",
   "metadata": {},
   "source": [
    "#### Question 2:\n",
    "\n",
    " 1) How many males are there?\n",
    " \n",
    " 2) What is the mean height?\n",
    " \n",
    " 3) What is the mean weight for femalse?"
   ]
  },
  {
   "cell_type": "code",
   "execution_count": null,
   "metadata": {},
   "outputs": [],
   "source": []
  },
  {
   "cell_type": "markdown",
   "metadata": {},
   "source": [
    "A person is classified as obese if their BMI exceeds 30. Add the BMI column back into the data frame, as well as a new logical column **is.obese** indicating if a person is obese or not."
   ]
  },
  {
   "cell_type": "code",
   "execution_count": null,
   "metadata": {},
   "outputs": [],
   "source": []
  },
  {
   "cell_type": "markdown",
   "metadata": {},
   "source": [
    "# tsibble objects \n",
    "\n",
    "source: http://rmirror.lau.edu.lb/web/packages/tsibble/tsibble.pdf\n",
    "\n",
    "Repository: https://github.com/orgs/tidyverse/repositories"
   ]
  },
  {
   "cell_type": "markdown",
   "metadata": {},
   "source": [
    "### Installation"
   ]
  },
  {
   "cell_type": "markdown",
   "metadata": {},
   "source": [
    "You could install the stable version on CRAN or the development version from Github using\n"
   ]
  },
  {
   "cell_type": "code",
   "execution_count": null,
   "metadata": {},
   "outputs": [],
   "source": [
    "# install.packages(\"tsibble\")\n",
    "# install.packages(\"devtools\")\n",
    "# devtools::install_github(\"tidyverse/tibble\")"
   ]
  },
  {
   "cell_type": "code",
   "execution_count": null,
   "metadata": {},
   "outputs": [],
   "source": [
    "# install.packages(c(\"future\", \"future.apply\"))\n",
    "# install.packages(c(\"rmarkdown\", \"urca\"))\n",
    "# install.packages(c(\"tsibble\", \"tsibbledata\", \"fabletools\", \"fable\", \"feasts\"))\n",
    "# install.packages(\"tsibbledata\")"
   ]
  },
  {
   "cell_type": "markdown",
   "metadata": {},
   "source": [
    "#### It is also easy to create tsibbles from csv files, by first reading them in using readr::read_csv() and then using the as_tsibble() function."
   ]
  },
  {
   "cell_type": "markdown",
   "metadata": {},
   "source": [
    "A tsibble (where “ts” is pronounced as in cats) is a time series object that is much easier to work with than existing classes such as ts, xts and others. Existing ts objects can be easily converted to tsibble objects using as_tsibble()"
   ]
  },
  {
   "cell_type": "code",
   "execution_count": null,
   "metadata": {},
   "outputs": [],
   "source": [
    "library(fpp2)\n",
    "goog200"
   ]
  },
  {
   "cell_type": "code",
   "execution_count": null,
   "metadata": {},
   "outputs": [],
   "source": [
    "# Example: the google stock series from fpp2 package\n",
    "goog200 %>% as_tsibble()"
   ]
  },
  {
   "cell_type": "markdown",
   "metadata": {},
   "source": [
    "#### Coerce to a tsibble with as_tsibble()"
   ]
  },
  {
   "cell_type": "markdown",
   "metadata": {},
   "source": [
    "To coerce a data frame to tsibble, we need to declare key and index. For example, in the weather data from the package nycflights13, the time_hour containing the date-times should be declared as index, and the origin as key. Other columns can be considered as measured variables."
   ]
  },
  {
   "cell_type": "code",
   "execution_count": null,
   "metadata": {},
   "outputs": [],
   "source": [
    "library(tidyverse)\n",
    "nycflights13::flights %>% \n",
    "  print(n = 10, width = Inf)"
   ]
  },
  {
   "cell_type": "code",
   "execution_count": null,
   "metadata": {},
   "outputs": [],
   "source": [
    "library(tidyverse)\n",
    "library(tsibble)\n",
    "USAccDeaths %>% as_tsibble()"
   ]
  },
  {
   "cell_type": "markdown",
   "metadata": {},
   "source": [
    "#### A tsibble (where “ts” is pronounced as in cats) is a time series object that is much easier to work with than existing classes such as ts, xts and others. Existing ts objects can be easily converted to tsibble objects using as_tsibble(). For example"
   ]
  },
  {
   "cell_type": "markdown",
   "metadata": {},
   "source": [
    "####    It is also easy to create tsibbles from csv files, by first reading them in using readr::read_csv() and then using the as_tsibble() function."
   ]
  },
  {
   "cell_type": "markdown",
   "metadata": {},
   "source": [
    "### Read a csv file and convert to a tsibble"
   ]
  },
  {
   "cell_type": "code",
   "execution_count": null,
   "metadata": {},
   "outputs": [],
   "source": [
    "prison <- readr::read_csv(\"https://OTexts.com/fpp3/extrafiles/prison_population.csv\")\n",
    "prison"
   ]
  },
  {
   "cell_type": "code",
   "execution_count": null,
   "metadata": {},
   "outputs": [],
   "source": [
    "prison <- readr::read_csv(\"https://OTexts.com/fpp3/extrafiles/prison_population.csv\")\n",
    "prison <- prison %>%\n",
    "  mutate(Quarter = yearquarter(Date)) %>%\n",
    "  select(-Date) %>%\n",
    "  as_tsibble(key = c(State, Gender, Legal, Indigenous),\n",
    "             index = Quarter)\n",
    "prison"
   ]
  },
  {
   "cell_type": "markdown",
   "metadata": {},
   "source": [
    "#### We can use dplyr functions such as mutate(), filter(), select() and summarise() to work with tsibble objects. "
   ]
  },
  {
   "cell_type": "code",
   "execution_count": null,
   "metadata": {},
   "outputs": [],
   "source": [
    "# From mtcars: Motor Trend Car Road Tests (https://www.rdocumentation.org/packages/datasets/versions/3.6.2/topics/mtcars)\n",
    "by_cyl <- mtcars %>% group_by(cyl)\n",
    "\n",
    "# grouping doesn't change how the data looks (apart from listing\n",
    "# how it's grouped):\n",
    "by_cyl#> # A tibble: 32 x 11"
   ]
  },
  {
   "cell_type": "code",
   "execution_count": null,
   "metadata": {},
   "outputs": [],
   "source": [
    "by_cyl %>% summarise(disp = mean(disp), hp = mean(hp))\n",
    "# summarise() ungrouping output (override with `.groups` argument) A tibble: 3 x 3"
   ]
  },
  {
   "cell_type": "code",
   "execution_count": null,
   "metadata": {},
   "outputs": [],
   "source": [
    "by_cyl %>% filter(disp == max(disp))#> # A tibble: 3 x 11"
   ]
  },
  {
   "cell_type": "code",
   "execution_count": null,
   "metadata": {},
   "outputs": [],
   "source": [
    "by_vs_am <- mtcars %>% group_by(vs, am)\n",
    "by_vs <- by_vs_am %>% summarise(n = n())\n",
    "by_vs"
   ]
  },
  {
   "cell_type": "code",
   "execution_count": null,
   "metadata": {},
   "outputs": [],
   "source": [
    "by_vs %>% summarise(n = sum(n))"
   ]
  },
  {
   "cell_type": "code",
   "execution_count": null,
   "metadata": {},
   "outputs": [],
   "source": [
    "# To removing grouping, use ungroup\n",
    "by_vs %>%\n",
    "  ungroup() %>%\n",
    "  summarise(n = sum(n))#> # A tibble: 1 x 1"
   ]
  },
  {
   "cell_type": "code",
   "execution_count": null,
   "metadata": {},
   "outputs": [],
   "source": [
    "# You can group by expressions: this is just short-hand for\n",
    "# a mutate() followed by a group_by()\n",
    "mtcars %>% group_by(vsam = vs + am)#> # A tibble: 32 x 12"
   ]
  },
  {
   "cell_type": "code",
   "execution_count": null,
   "metadata": {},
   "outputs": [],
   "source": [
    "# By default, group_by() overrides existing grouping\n",
    "by_cyl %>%\n",
    "  group_by(vs, am) %>%\n",
    "  group_vars()#> [1] \"vs\" \"am\""
   ]
  },
  {
   "cell_type": "code",
   "execution_count": null,
   "metadata": {},
   "outputs": [],
   "source": [
    "# Use add = TRUE to instead append\n",
    "by_cyl %>%\n",
    "  group_by(vs, am, .add = TRUE) %>%\n",
    "  group_vars()#> [1] \"cyl\" \"vs\"  \"am\" "
   ]
  },
  {
   "cell_type": "code",
   "execution_count": null,
   "metadata": {},
   "outputs": [],
   "source": [
    "# when factors are involved, groups can be empty\n",
    "tbl <- tibble(\n",
    "  x = 1:10,\n",
    "  y = factor(rep(c(\"a\", \"c\"), each  = 5), levels = c(\"a\", \"b\", \"c\"))\n",
    ")\n",
    "tbl %>%\n",
    "  group_by(y) %>%\n",
    "  group_rows()#> <list_of<integer>[2]>"
   ]
  },
  {
   "cell_type": "markdown",
   "metadata": {},
   "source": [
    "## Practice"
   ]
  },
  {
   "cell_type": "markdown",
   "metadata": {},
   "source": [
    " * From Library(fpp2)\n",
    "       dj contains 292 consecutive trading days of the Dow Jones Index. Use ddj <- diff(dj) to compute the daily changes in the index. Plot ddj and its ACF. Do the changes in the Dow Jones Index look like white noise?"
   ]
  },
  {
   "cell_type": "code",
   "execution_count": null,
   "metadata": {},
   "outputs": [],
   "source": [
    "ddj <- diff(dj)"
   ]
  },
  {
   "cell_type": "markdown",
   "metadata": {},
   "source": [
    " * Look at the quarterly tourism data for the Snowy Mountains, What do you learn?\n"
   ]
  },
  {
   "cell_type": "code",
   "execution_count": null,
   "metadata": {},
   "outputs": [],
   "source": [
    "snowy <- tourism %>%\n",
    "filter(Region == \"Snowy Mountains\")\n",
    "Use autoplot(), gg_season() and\n",
    "gg_subseries() to explore the data."
   ]
  }
 ],
 "metadata": {
  "kernelspec": {
   "display_name": "R",
   "language": "R",
   "name": "ir"
  },
  "language_info": {
   "codemirror_mode": "r",
   "file_extension": ".r",
   "mimetype": "text/x-r-source",
   "name": "R",
   "pygments_lexer": "r",
   "version": "4.2.1"
  }
 },
 "nbformat": 4,
 "nbformat_minor": 4
}
